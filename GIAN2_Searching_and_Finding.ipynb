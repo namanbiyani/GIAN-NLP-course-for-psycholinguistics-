{
 "cells": [
  {
   "cell_type": "markdown",
   "metadata": {},
   "source": [
    "# GIAN 2: Searching and Finding\n",
    "\n",
    "Fou should be familiar with the Jupyter Notebook.\n",
    "\n",
    "This notebook shows you how to search text using simple techniques. \n",
    "\n",
    "We will use small bits of text as example, but you can use the same techniques on very large text."
   ]
  },
  {
   "cell_type": "markdown",
   "metadata": {},
   "source": [
    "## 1. What is a text string ?\n",
    "\n",
    "A text string is a sequence of characters. In Python3, a text string can include any character in the [UTF-8]() character set. \n",
    "\n",
    "You can indicate that something is a text string by surrounding it by single quotes or double quotes."
   ]
  },
  {
   "cell_type": "code",
   "execution_count": null,
   "metadata": {},
   "outputs": [],
   "source": [
    "mytext1=\"I love text mining\"\n",
    "mytext2='I love text mining'"
   ]
  },
  {
   "cell_type": "markdown",
   "metadata": {},
   "source": [
    "Since the quotes are not part of the string itself, these two lead to ways are interchangeable.\n",
    "\n",
    "We can compare them by using `==` to show that this is the case."
   ]
  },
  {
   "cell_type": "code",
   "execution_count": null,
   "metadata": {},
   "outputs": [],
   "source": [
    "mytext1==mytext2"
   ]
  },
  {
   "cell_type": "markdown",
   "metadata": {},
   "source": [
    "So, how do you choose whether to use single quotes or double quotes?\n",
    "\n",
    "Easy! If the text contains single quotes, use double quotes to surround it. If the text contains double quotes, use single quotes to surround it."
   ]
  },
  {
   "cell_type": "code",
   "execution_count": null,
   "metadata": {},
   "outputs": [],
   "source": [
    "mytext1=\"My classmate said: 'I love text mining'\"\n",
    "mytext2='My classmate said: \"I love text mining\"'"
   ]
  },
  {
   "cell_type": "markdown",
   "metadata": {},
   "source": [
    "Now, look at the cell above and try to predict the result of the following code. Remember that there are now quotes inside the string which are part of the string."
   ]
  },
  {
   "cell_type": "code",
   "execution_count": null,
   "metadata": {},
   "outputs": [],
   "source": [
    "mytext1==mytext2"
   ]
  },
  {
   "cell_type": "markdown",
   "metadata": {},
   "source": [
    "A final way to represent text is by surrounding it by three single or double quotes on each side. This is very useful for text which contains\n",
    "+ many quotes\n",
    "+ strange characters\n",
    "+ runs across multiple lines\n",
    "\n",
    "The only thing you need to remember is that, if you do this, you cannot have the same sequence of quotes inside the string. "
   ]
  },
  {
   "cell_type": "code",
   "execution_count": null,
   "metadata": {},
   "outputs": [],
   "source": [
    "mytext3=\"\"\"\n",
    "\n",
    "This string starts with two blank lines.\n",
    "\n",
    "\"You can use as many single or double quotes as you want in this 'string'\"\n",
    "\n",
    "Just don't use the same three quotes that you also use to surround the text:\n",
    "\n",
    "So, this is fine: '''\n",
    "\n",
    "And this too \"\"\n",
    "\n",
    "But the characters that delimit the string can't be used:\n",
    "\n",
    "because they signal the end of the string!\n",
    "\"\"\""
   ]
  },
  {
   "cell_type": "markdown",
   "metadata": {},
   "source": [
    "Play around with the string in the preceding cell and look at the differences in output. \n",
    "\n",
    "How can you make the string illegal?"
   ]
  },
  {
   "cell_type": "code",
   "execution_count": null,
   "metadata": {},
   "outputs": [],
   "source": []
  },
  {
   "cell_type": "markdown",
   "metadata": {},
   "source": [
    "## 2. Regular Expressions\n",
    "\n",
    "Regular expressions are a tool to look for specific patterns in text. These patterns can be used for many text mining tasks, from very simple to extremely complex.\n",
    "\n",
    "+ very simple: for instance, finding a specific word\n",
    "+ a bit more complex: for instance, finding e-mail addresses\n",
    "+ even more complex: for instance, extracting specific parts of html source code dependent on what patterns occur before or after it\n",
    "\n",
    "### Experienced programmers say: \"Always refer to documentation when using regular expressions\"\n",
    "\n",
    "+ [Here is a cheatsheet for regular expressions in Python](https://www.debuggex.com/cheatsheet/regex/python)\n",
    "\n",
    "+ [And here is the official technical documentation for regular expressions in Python3](https://docs.python.org/3/library/re.html#module-re)"
   ]
  },
  {
   "cell_type": "code",
   "execution_count": null,
   "metadata": {},
   "outputs": [],
   "source": [
    "# Before we can use regular expressions in the notebook, we need to import the regular expressions module\n",
    "import re"
   ]
  },
  {
   "cell_type": "markdown",
   "metadata": {},
   "source": [
    "## 3. Asking whether text *contains* a pattern (re.search)\n",
    "\n",
    "A first thing we can do with regular expressions is to check whether a text contains a pattern."
   ]
  },
  {
   "cell_type": "code",
   "execution_count": null,
   "metadata": {},
   "outputs": [],
   "source": [
    "mytext = \"\"\"I want to live,\n",
    "I want to give\n",
    "I've been a miner\n",
    "for a heart of gold\n",
    "It's these expressions\n",
    "I never give\n",
    "That keep me searching\n",
    "for a heart of Gold\n",
    "And I'm getting old\n",
    "Keeps me searching\n",
    "for a heart of gold\n",
    "And I'm getting old\n",
    "\n",
    "I've been to Hollywood\n",
    "I've been to Redwood\n",
    "I crossed the ocean\n",
    "for a heart of gold\n",
    "I've been in my mind,\n",
    "it's such a fine line\n",
    "That keeps me searching\n",
    "for a heart of gold\n",
    "And I'm getting old\n",
    "Keeps me searching\n",
    "for a heart of gold\n",
    "And I'm getting old\n",
    "\n",
    "Keep me searching\n",
    "for a heart of gold\n",
    "You keep me searching\n",
    "And I'm growing old\n",
    "Keep me searching\n",
    "for a heart of gold\n",
    "I've been a miner\n",
    "for a heart of gold\n",
    "\"\"\""
   ]
  },
  {
   "cell_type": "code",
   "execution_count": null,
   "metadata": {},
   "outputs": [],
   "source": [
    "# Is there gold ?\n",
    "mypattern=\"gold\"\n",
    "re.search(mypattern, mytext)"
   ]
  },
  {
   "cell_type": "code",
   "execution_count": null,
   "metadata": {},
   "outputs": [],
   "source": [
    "# Is there silver ?\n",
    "mypattern=\"silver\"\n",
    "re.search(mypattern, mytext)"
   ]
  },
  {
   "cell_type": "code",
   "execution_count": null,
   "metadata": {},
   "outputs": [],
   "source": [
    "# Is there Gold ?\n",
    "mypattern=\"Gold\"\n",
    "re.search(mypattern, mytext)"
   ]
  },
  {
   "cell_type": "code",
   "execution_count": null,
   "metadata": {},
   "outputs": [],
   "source": [
    "# Is there [Gg]old ?\n",
    "# We use square brackets to indicate a set of possible characters\n",
    "mypattern=\"[Gg]old\"\n",
    "re.search(mypattern, mytext)"
   ]
  },
  {
   "cell_type": "markdown",
   "metadata": {},
   "source": [
    "## 4. Asking whether a text *matches* a pattern from the beginning (re.match)"
   ]
  },
  {
   "cell_type": "code",
   "execution_count": null,
   "metadata": {},
   "outputs": [],
   "source": [
    "# Is there gold at the beggining of the text?\n",
    "mypattern=\"gold\"\n",
    "re.match(mypattern, mytext)"
   ]
  },
  {
   "cell_type": "code",
   "execution_count": null,
   "metadata": {},
   "outputs": [],
   "source": [
    "# Is the word \"I\" at the begining of the text ?\n",
    "mypattern=\"I\"\n",
    "re.match(mypattern, mytext)"
   ]
  },
  {
   "cell_type": "code",
   "execution_count": null,
   "metadata": {},
   "outputs": [],
   "source": [
    "# Does the text start with a word composed of alphanumeric characters ?\n",
    "mypattern=\"\\w+\"\n",
    "re.match(mypattern, mytext)"
   ]
  },
  {
   "cell_type": "code",
   "execution_count": null,
   "metadata": {},
   "outputs": [],
   "source": [
    "# Does the text start with a an uppercase alphabetic character?\n",
    "mypattern=\"[A-Z]\"\n",
    "re.match(mypattern, mytext)"
   ]
  },
  {
   "cell_type": "code",
   "execution_count": null,
   "metadata": {},
   "outputs": [],
   "source": [
    "# Does the text start with a lowercase alphabetic character?\n",
    "mypattern=\"[a-z]\"\n",
    "re.match(mypattern, mytext)"
   ]
  },
  {
   "cell_type": "code",
   "execution_count": null,
   "metadata": {},
   "outputs": [],
   "source": [
    "# Does the text start with a single alphanumeric character followed by a space ?\n",
    "mypattern=\"\\w\\s\"\n",
    "re.match(mypattern, mytext)"
   ]
  },
  {
   "cell_type": "code",
   "execution_count": null,
   "metadata": {},
   "outputs": [],
   "source": [
    "# Does the text start with any sequence of characters, followed by \"want\" ?\n",
    "mypattern=\".+ want\"\n",
    "re.match(mypattern, mytext)"
   ]
  },
  {
   "cell_type": "code",
   "execution_count": null,
   "metadata": {},
   "outputs": [],
   "source": [
    "# Does the text start with any sequence of characters, followed by \"want\", followed by any sequence of characters?\n",
    "mypattern=\".+ want .+\"\n",
    "re.match(mypattern, mytext)"
   ]
  },
  {
   "cell_type": "code",
   "execution_count": null,
   "metadata": {},
   "outputs": [],
   "source": [
    "# Does the text start with any sequence of characters, followed by \"gold\" ?\n",
    "# Beware: re.match doesn't work across multiple lines\n",
    "mypattern=\".+ gold\"\n",
    "re.match(mypattern, mytext)"
   ]
  },
  {
   "cell_type": "code",
   "execution_count": null,
   "metadata": {},
   "outputs": [],
   "source": [
    "# Does the text start with ANY sequence of characters, followed by \"gold\" ?\n",
    "# We need to use the re.DOTALL flag to indicate we want the dot to match a newline character\n",
    "mypattern=\".+ gold\"\n",
    "re.match(mypattern, mytext, re.DOTALL)"
   ]
  },
  {
   "cell_type": "code",
   "execution_count": null,
   "metadata": {},
   "outputs": [],
   "source": [
    "# And we need to use \"group\" to show the full pattern\n",
    "# Observe that the newline characters are now shown by their regular expression pattern!\n",
    "mypattern=\".+ gold\"\n",
    "re.match(mypattern, mytext, re.DOTALL).group()"
   ]
  },
  {
   "cell_type": "markdown",
   "metadata": {},
   "source": [
    "## 5. Finding multiple patterns in a text "
   ]
  },
  {
   "cell_type": "code",
   "execution_count": null,
   "metadata": {},
   "outputs": [],
   "source": [
    "# How many times does Neil Young tell us that he is old ?\n",
    "mypattern=\" (old)\\s\"\n",
    "results=re.findall(mypattern, mytext)\n",
    "print(len(results))\n",
    "print(results)"
   ]
  },
  {
   "cell_type": "code",
   "execution_count": null,
   "metadata": {},
   "outputs": [],
   "source": [
    "# Where has Neil Young been to ?\n",
    "# We use round brackets to surround the part we want to extract\n",
    "mypattern=\"been (to \\w+)\"\n",
    "results=re.findall(mypattern, mytext)\n",
    "print(results)"
   ]
  },
  {
   "cell_type": "code",
   "execution_count": null,
   "metadata": {},
   "outputs": [],
   "source": [
    "# What, where, how, ... has Neil Young been ?\n",
    "# We can extract multiple groups in a pattern\n",
    "mypattern=\"([\\w']+) (been) (\\w+) (.+)\"\n",
    "results=re.findall(mypattern, mytext)\n",
    "print(results)"
   ]
  },
  {
   "cell_type": "markdown",
   "metadata": {},
   "source": [
    "## 6. Splitting text using a pattern (basic tokenizing) "
   ]
  },
  {
   "cell_type": "code",
   "execution_count": null,
   "metadata": {},
   "outputs": [],
   "source": [
    "# What are all the strings in the text that are delimited by a space\n",
    "results=re.split(\"\\ \", mytext)\n",
    "print(results)"
   ]
  },
  {
   "cell_type": "code",
   "execution_count": null,
   "metadata": {},
   "outputs": [],
   "source": [
    "# What are all the strings in the text that are delimited by a space or a newline character\n",
    "results=re.split(\"[\\ \\n]\", mytext)\n",
    "print(results)"
   ]
  },
  {
   "cell_type": "code",
   "execution_count": null,
   "metadata": {},
   "outputs": [],
   "source": [
    "# What are all the strings in the text that are delimited by a space or a comma\n",
    "results=re.split(\"[\\ \\n,]\", mytext)\n",
    "print(results)"
   ]
  }
 ],
 "metadata": {
  "kernelspec": {
   "display_name": "Python 3",
   "language": "python",
   "name": "python3"
  },
  "language_info": {
   "codemirror_mode": {
    "name": "ipython",
    "version": 3
   },
   "file_extension": ".py",
   "mimetype": "text/x-python",
   "name": "python",
   "nbconvert_exporter": "python",
   "pygments_lexer": "ipython3",
   "version": "3.6.5"
  }
 },
 "nbformat": 4,
 "nbformat_minor": 1
}
