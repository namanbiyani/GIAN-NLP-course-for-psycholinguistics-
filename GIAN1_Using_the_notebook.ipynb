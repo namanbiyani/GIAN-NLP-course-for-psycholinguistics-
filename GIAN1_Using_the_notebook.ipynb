{
 "cells": [
  {
   "cell_type": "markdown",
   "metadata": {},
   "source": [
    "# GIAN 1: Using the Notebook\n",
    "\n",
    "If this text is displayed in a window in your webbrowser, it is very likely you have succeeded at downloading and installing [Jupyter](http://jupyter.readthedocs.io)."
   ]
  },
  {
   "cell_type": "markdown",
   "metadata": {},
   "source": [
    "## 1. Cells\n",
    "The first step in learning how to use the Jupyter notebook is to understand that a notebook is made up of *cells*.\n",
    "\n",
    "Click once on the text displayed here ..."
   ]
  },
  {
   "cell_type": "markdown",
   "metadata": {},
   "source": [
    "... and now click once on the text displayed here.\n",
    "\n",
    "You will see a rectangle indicating the borders of the cell you clicked on."
   ]
  },
  {
   "cell_type": "markdown",
   "metadata": {},
   "source": [
    "## 2. Editing cells\n",
    "\n",
    "You can *open* a cell for editing by double clicking on the cell. \n",
    "\n",
    "Double click on the current cell to open it.\n",
    "\n",
    "You will see that when a cell is opened for editing, its contents change appearance.\n",
    "\n",
    "If you see the characters `##` appearing at the beginning of this cell, you have opened it for editing."
   ]
  },
  {
   "cell_type": "markdown",
   "metadata": {},
   "source": [
    "# 3. Markdown\n",
    "## 3.1 Submarkdown\n",
    "### 3.1.1 Subsubmarkdown\n",
    "\n",
    "The contents of cells you have seen so far were formatted using [Markdown](https://jupyter-notebook.readthedocs.io/en/latest/examples/Notebook/Working%20With%20Markdown%20Cells.html). \n",
    "\n",
    "Markdown is a way to easily format text using only plain text characters. It can be used for many different purposes such as writing documentation, keeping notes, writing papers, etc ...\n",
    "\n",
    "For this course, you will use Markdown for all your assignments.\n",
    "\n",
    "Open the cells in this document to see how we used Markdown to format the text. This [cheatsheet](https://github.com/adam-p/markdown-here/wiki/Markdown-Cheatsheet) shows you most of the things you can do with Markdown."
   ]
  },
  {
   "cell_type": "markdown",
   "metadata": {},
   "source": [
    "## 4. Running a cell\n",
    "\n",
    "You can think of the notebook as a place where you can write formatting code and programming code in cells. But you can also *run* the contents of a cell in your notebook.\n",
    "\n",
    "Running a cell is achieved by holding down the *shift* key and then pressing *enter*, or, in short, *shift-enter*.\n",
    "\n",
    "When you run a cell, the code in that cell is interpreted.\n",
    "\n",
    "For a markdown cell, this means that the cell is formatted from plain text into nicely formatted text.\n",
    "\n",
    "Try opening a few cells for editing and then press shift-enter to run them."
   ]
  },
  {
   "cell_type": "markdown",
   "metadata": {
    "collapsed": true
   },
   "source": [
    "## 5. Different cell types\n",
    "\n",
    "Cells in the notebook can include different kinds of code in addition to Markdown. \n",
    "\n",
    "You can view the type of the cell contents by clicking on the cell and looking at the toolbar under the menu at the top of the page. Towards the right end of the toolbar, there is a dropdown menu that tells you the cell type and lets you change it. \n",
    "\n",
    "In this course, we will only use *markdown* cells and *code* cells. Code cells can contain code in many different programming languages, but throughout this course we wil only use [Python 3](https://docs.python.org/3/)."
   ]
  },
  {
   "cell_type": "code",
   "execution_count": null,
   "metadata": {
    "scrolled": true
   },
   "outputs": [],
   "source": [
    "# This is a code cell\n",
    "print(\"Running this cell executes python code.\")\n",
    "print(list(range(10,100)))"
   ]
  },
  {
   "cell_type": "markdown",
   "metadata": {},
   "source": [
    "Unless you have programming experience, you will not understand everything inside a code cell. \n",
    "\n",
    "It is important to know that when you run a code cell, the output of the code is displayed below the cell, as in the example above.\n",
    "\n",
    "Sometimes, code cells will run but will have no output. \n",
    "\n",
    "The cell below tells python to assign the string \"I love text mining\" to the variable myText. "
   ]
  },
  {
   "cell_type": "code",
   "execution_count": null,
   "metadata": {
    "scrolled": true
   },
   "outputs": [],
   "source": [
    "myText=\"I love text mining\""
   ]
  },
  {
   "cell_type": "markdown",
   "metadata": {},
   "source": [
    "## 6. Non linear execution\n",
    "Remember that when you ran the cell above, you did not see any output below the cell?\n",
    "\n",
    "So, how do you know that the code ran? Look at the number in square brackets at the left of the cell. Every time you run a code cell, this number increases by one. By looking at the numbers next to the code cells, you can also see the order in which you ran cells.\n",
    "\n",
    "Very often you will just want to run cells in the order they occur in the notebook, but sometimes you will want to run previous cells again.\n",
    "\n",
    "Run the two previous code cells in different orders and watch the numbers change!"
   ]
  },
  {
   "cell_type": "markdown",
   "metadata": {},
   "source": [
    "Once the code in a cell *changes the state of something*, this changed state is also true to other cells.\n",
    "\n",
    "For example, in the code cell below we instruct Python to print the variable `myText`. The output shows that the notebook remembers what we did in an earlier cell, when we assigned the string \"I love text mining\" to that variable."
   ]
  },
  {
   "cell_type": "code",
   "execution_count": null,
   "metadata": {},
   "outputs": [],
   "source": [
    "print(myText)"
   ]
  },
  {
   "cell_type": "markdown",
   "metadata": {},
   "source": [
    "## 7. What else can you do with cells ?\n",
    "\n",
    "The toolbar in the notebook lets you:\n",
    "+ Insert a cell below the currently selected one (using the '+' icon in the toolbar);\n",
    "+ Cut, copy, and paste cells (using the scissor icon and the two icons next to it );\n",
    "+ Move the selected cell up and down in the notebook (using the up and down arrows in the toolbar).\n",
    "\n",
    "Using the menu, you can also:\n",
    "+ Split a cell at the cursor position;\n",
    "+ Merge a cell with the one above or below it."
   ]
  },
  {
   "cell_type": "markdown",
   "metadata": {},
   "source": [
    "## 8. The kernel\n",
    "\n",
    "The kernel is the software that runs the contents of the cells in the notebook. We will always work with the Python 3 kernel. You can see the current kernel in the upper right corner of the notebook.\n",
    "\n",
    "It is possible to stop the kernel, for instance when you have made an error which causes a cell to run during a long time. \n",
    "\n",
    "In some cases, it will also be handy to reset the notebook, so that no code cells have been ran. You can do this by choosing *Restart and Clear Output*.\n",
    "\n",
    "It can also be useful to run the entire notebook at once, for instance when you have built a larger program."
   ]
  }
 ],
 "metadata": {
  "kernelspec": {
   "display_name": "Python 3",
   "language": "python",
   "name": "python3"
  },
  "language_info": {
   "codemirror_mode": {
    "name": "ipython",
    "version": 3
   },
   "file_extension": ".py",
   "mimetype": "text/x-python",
   "name": "python",
   "nbconvert_exporter": "python",
   "pygments_lexer": "ipython3",
   "version": "3.6.5"
  }
 },
 "nbformat": 4,
 "nbformat_minor": 1
}
